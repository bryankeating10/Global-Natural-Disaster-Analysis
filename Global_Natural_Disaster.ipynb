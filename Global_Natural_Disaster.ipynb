{
 "cells": [
  {
   "cell_type": "markdown",
   "id": "3eb454d8",
   "metadata": {},
   "source": [
    "# Global Natural Disaster Analysis"
   ]
  },
  {
   "cell_type": "code",
   "execution_count": 12,
   "id": "1f9cfcbf",
   "metadata": {},
   "outputs": [
    {
     "name": "stdout",
     "output_type": "stream",
     "text": [
      "Dataset URL: https://www.kaggle.com/datasets/cyberevil545/global-natural-disasters-dataset-19602018\n",
      "License(s): CC-BY-SA-4.0\n",
      "Downloading global-natural-disasters-dataset-19602018.zip to /mnt/c/Users/Bryan Keating/BK Laptop/Discovery/Kaggle/Global Natural Disaster Analysis\n",
      "  0%|                                                | 0.00/499k [00:00<?, ?B/s]\n",
      "100%|████████████████████████████████████████| 499k/499k [00:00<00:00, 75.0MB/s]\n"
     ]
    }
   ],
   "source": [
    "!kaggle datasets download cyberevil545/global-natural-disasters-dataset-19602018"
   ]
  },
  {
   "cell_type": "code",
   "execution_count": 13,
   "id": "b1a8a38a",
   "metadata": {},
   "outputs": [
    {
     "name": "stdout",
     "output_type": "stream",
     "text": [
      "Archive:  global-natural-disasters-dataset-19602018.zip\n",
      "  inflating: nasa_disaster_dataset.csv  \n"
     ]
    }
   ],
   "source": [
    "!unzip global-natural-disasters-dataset-19602018.zip\n",
    "!rm global-natural-disasters-dataset-19602018.zip"
   ]
  },
  {
   "cell_type": "code",
   "execution_count": 14,
   "id": "7ad68606",
   "metadata": {},
   "outputs": [
    {
     "name": "stdout",
     "output_type": "stream",
     "text": [
      "name                          size  creationDate         \n",
      "-------------------------  -------  -------------------  \n",
      "nasa_disaster_dataset.csv  2768384  2025-08-27 12:54:32  \n"
     ]
    }
   ],
   "source": [
    "!kaggle datasets files cyberevil545/global-natural-disasters-dataset-19602018\n"
   ]
  },
  {
   "cell_type": "markdown",
   "id": "24235e54",
   "metadata": {},
   "source": [
    "Begin python analysis"
   ]
  },
  {
   "cell_type": "code",
   "execution_count": 19,
   "id": "66574d50",
   "metadata": {},
   "outputs": [
    {
     "data": {
      "text/html": [
       "<div>\n",
       "<style scoped>\n",
       "    .dataframe tbody tr th:only-of-type {\n",
       "        vertical-align: middle;\n",
       "    }\n",
       "\n",
       "    .dataframe tbody tr th {\n",
       "        vertical-align: top;\n",
       "    }\n",
       "\n",
       "    .dataframe thead th {\n",
       "        text-align: right;\n",
       "    }\n",
       "</style>\n",
       "<table border=\"1\" class=\"dataframe\">\n",
       "  <thead>\n",
       "    <tr style=\"text-align: right;\">\n",
       "      <th></th>\n",
       "      <th>Unnamed: 0</th>\n",
       "      <th>id</th>\n",
       "      <th>country</th>\n",
       "      <th>geolocation</th>\n",
       "      <th>level</th>\n",
       "      <th>adm1</th>\n",
       "      <th>location</th>\n",
       "      <th>disastertype</th>\n",
       "      <th>continent</th>\n",
       "    </tr>\n",
       "  </thead>\n",
       "  <tbody>\n",
       "    <tr>\n",
       "      <th>0</th>\n",
       "      <td>0</td>\n",
       "      <td>109</td>\n",
       "      <td>Albania</td>\n",
       "      <td>Ana E Malit</td>\n",
       "      <td>3</td>\n",
       "      <td>Shkoder</td>\n",
       "      <td>Ana E Malit</td>\n",
       "      <td>flood</td>\n",
       "      <td>Europe</td>\n",
       "    </tr>\n",
       "    <tr>\n",
       "      <th>1</th>\n",
       "      <td>1</td>\n",
       "      <td>109</td>\n",
       "      <td>Albania</td>\n",
       "      <td>Bushat</td>\n",
       "      <td>3</td>\n",
       "      <td>Shkoder</td>\n",
       "      <td>Bushat</td>\n",
       "      <td>flood</td>\n",
       "      <td>Europe</td>\n",
       "    </tr>\n",
       "    <tr>\n",
       "      <th>2</th>\n",
       "      <td>2</td>\n",
       "      <td>175</td>\n",
       "      <td>Angola</td>\n",
       "      <td>Onjiva</td>\n",
       "      <td>3</td>\n",
       "      <td>Cunene</td>\n",
       "      <td>Onjiva</td>\n",
       "      <td>flood</td>\n",
       "      <td>Africa</td>\n",
       "    </tr>\n",
       "    <tr>\n",
       "      <th>3</th>\n",
       "      <td>3</td>\n",
       "      <td>187</td>\n",
       "      <td>Angola</td>\n",
       "      <td>Evale</td>\n",
       "      <td>3</td>\n",
       "      <td>Cunene</td>\n",
       "      <td>Evale</td>\n",
       "      <td>flood</td>\n",
       "      <td>Africa</td>\n",
       "    </tr>\n",
       "    <tr>\n",
       "      <th>4</th>\n",
       "      <td>4</td>\n",
       "      <td>187</td>\n",
       "      <td>Angola</td>\n",
       "      <td>Mupa</td>\n",
       "      <td>3</td>\n",
       "      <td>Cunene</td>\n",
       "      <td>Mupa</td>\n",
       "      <td>flood</td>\n",
       "      <td>Africa</td>\n",
       "    </tr>\n",
       "  </tbody>\n",
       "</table>\n",
       "</div>"
      ],
      "text/plain": [
       "   Unnamed: 0   id  country  geolocation  level     adm1     location  \\\n",
       "0           0  109  Albania  Ana E Malit      3  Shkoder  Ana E Malit   \n",
       "1           1  109  Albania       Bushat      3  Shkoder       Bushat   \n",
       "2           2  175   Angola       Onjiva      3   Cunene       Onjiva   \n",
       "3           3  187   Angola        Evale      3   Cunene        Evale   \n",
       "4           4  187   Angola         Mupa      3   Cunene         Mupa   \n",
       "\n",
       "  disastertype continent  \n",
       "0        flood    Europe  \n",
       "1        flood    Europe  \n",
       "2        flood    Africa  \n",
       "3        flood    Africa  \n",
       "4        flood    Africa  "
      ]
     },
     "execution_count": 19,
     "metadata": {},
     "output_type": "execute_result"
    }
   ],
   "source": [
    "import pandas as pd\n",
    "import numpy as np\n",
    "import matplotlib.pyplot as plt\n",
    "import seaborn as sns\n",
    "\n",
    "# Dataset to pandas dataframe\n",
    "df = pd.read_csv('nasa_disaster_dataset.csv')\n",
    "df.head()"
   ]
  },
  {
   "cell_type": "code",
   "execution_count": 30,
   "id": "7388838d",
   "metadata": {},
   "outputs": [
    {
     "name": "stdout",
     "output_type": "stream",
     "text": [
      "Shape of the dataset: 39953 rows and 9 columns\n",
      "Size of the dataset: 359577 elements\n"
     ]
    }
   ],
   "source": [
    "# Dataset size and shape\n",
    "print(\"Shape of the dataset: {0} rows and {1} columns\".format(df.shape[0], df.shape[1]))\n",
    "print(f\"Size of the dataset: {df.size} elements\")\n"
   ]
  },
  {
   "cell_type": "code",
   "execution_count": null,
   "id": "229f3556",
   "metadata": {},
   "outputs": [
    {
     "name": "stdout",
     "output_type": "stream",
     "text": [
      "Index(['id', 'country', 'geolocation', 'level', 'adm1', 'location',\n",
      "       'disastertype', 'continent'],\n",
      "      dtype='object')\n"
     ]
    }
   ],
   "source": []
  },
  {
   "cell_type": "code",
   "execution_count": null,
   "id": "802b2152",
   "metadata": {},
   "outputs": [],
   "source": [
    "# Count disasters by continent\n",
    "print(df[\"continent\"].value_counts())"
   ]
  }
 ],
 "metadata": {
  "kernelspec": {
   "display_name": "Python 3",
   "language": "python",
   "name": "python3"
  },
  "language_info": {
   "codemirror_mode": {
    "name": "ipython",
    "version": 3
   },
   "file_extension": ".py",
   "mimetype": "text/x-python",
   "name": "python",
   "nbconvert_exporter": "python",
   "pygments_lexer": "ipython3",
   "version": "3.10.12"
  }
 },
 "nbformat": 4,
 "nbformat_minor": 5
}
